{
 "cells": [
  {
   "cell_type": "markdown",
   "source": [
    "#### Setup the login credentials required for accessing the zabbix API"
   ],
   "metadata": {
    "collapsed": false,
    "pycharm": {
     "name": "#%% md\n"
    }
   }
  },
  {
   "cell_type": "code",
   "execution_count": 17,
   "outputs": [
    {
     "name": "stdout",
     "output_type": "stream",
     "text": [
      "{\"jsonrpc\":\"2.0\",\"result\":\"abd105937cca826d9f59caec747b2bfc\",\"id\":1}\n"
     ]
    },
    {
     "data": {
      "text/plain": "'abd105937cca826d9f59caec747b2bfc'"
     },
     "execution_count": 17,
     "metadata": {},
     "output_type": "execute_result"
    }
   ],
   "source": [
    "import requests\n",
    "import ast\n",
    "import time\n",
    "import json\n",
    "\n",
    "USERNAME = \"usere\"\n",
    "PASSWORD = \"password\"\n",
    "API_URL = \"https://phonebox.tegola.org.uk/api_jsonrpc.php\"\n",
    "\n",
    "HOSTS = {}\n",
    "NUM_VALUES = 10     # Data is collected every 3 minutes\n",
    "\n",
    "data = {\n",
    "    \"jsonrpc\": \"2.0\",\n",
    "    \"method\": \"user.login\",\n",
    "    \"params\": {\n",
    "        \"user\": USERNAME,\n",
    "        \"password\": PASSWORD\n",
    "    },\n",
    "    \"id\": 1,\n",
    "    \"auth\": None\n",
    "}\n",
    "\n",
    "req = requests.post(API_URL, json=data)\n",
    "\n",
    "print(req.text)\n",
    "\n",
    "AUTH_TOKEN = req.json()[\"result\"]\n",
    "AUTH_TOKEN"
   ],
   "metadata": {
    "collapsed": false
   }
  },
  {
   "cell_type": "code",
   "execution_count": 18,
   "outputs": [
    {
     "data": {
      "text/plain": "{'ssh': '10533', 'mhi': '10541', 'smo': '10545', 'cor': '10532'}"
     },
     "execution_count": 18,
     "metadata": {},
     "output_type": "execute_result"
    }
   ],
   "source": [
    "# Get hosts by name\n",
    "\n",
    "data = {\n",
    "    \"jsonrpc\": \"2.0\",\n",
    "    \"method\": \"host.get\",\n",
    "    \"params\": {\n",
    "        \"filter\": {\n",
    "            \"host\": [\n",
    "                \"198.52.44.3\", # COR-CRS328\n",
    "                \"MHI-RB2011\", # MHI-RB2011\n",
    "                \"SMO-FAS-RB1100\", # SMO-FAS-RB1100\n",
    "                \"198.52.44.5\" # SSH-CRS317\n",
    "            ]\n",
    "        }\n",
    "    },\n",
    "    \"auth\": AUTH_TOKEN,\n",
    "    \"id\": 1\n",
    "}\n",
    "\n",
    "req = requests.post(API_URL, json=data)\n",
    "hosts = ast.literal_eval(req.text)\n",
    "\n",
    "# hosts_items = hosts.items()\n",
    "\n",
    "for host in hosts[\"result\"]:\n",
    "    if host[\"host\"] == \"198.52.44.5\":\n",
    "        HOSTS.update({\"ssh\": host[\"hostid\"]})\n",
    "    elif host[\"host\"] == \"MHI-RB2011\":\n",
    "        HOSTS.update({\"mhi\": host[\"hostid\"]})\n",
    "    elif host[\"host\"] == \"SMO-FAS-RB1100\":\n",
    "        HOSTS.update({\"smo\": host[\"hostid\"]})\n",
    "    elif host[\"host\"] == \"198.52.44.3\":\n",
    "        HOSTS.update({\"cor\": host[\"hostid\"]})\n",
    "\n",
    "HOSTS"
   ],
   "metadata": {
    "collapsed": false
   }
  },
  {
   "cell_type": "code",
   "execution_count": 24,
   "outputs": [
    {
     "data": {
      "text/plain": "{'jsonrpc': '2.0',\n 'result': [{'itemid': '48769',\n   'clock': '1671616096',\n   'value': '6050840',\n   'ns': '166943757'},\n  {'itemid': '48769',\n   'clock': '1671615915',\n   'value': '5565296',\n   'ns': '333909317'},\n  {'itemid': '48769',\n   'clock': '1671615736',\n   'value': '10524968',\n   'ns': '188365459'},\n  {'itemid': '48769',\n   'clock': '1671615555',\n   'value': '4478496',\n   'ns': '426901614'},\n  {'itemid': '48769',\n   'clock': '1671615375',\n   'value': '7392688',\n   'ns': '608029918'},\n  {'itemid': '48769',\n   'clock': '1671615195',\n   'value': '4836352',\n   'ns': '358635392'},\n  {'itemid': '48769',\n   'clock': '1671615015',\n   'value': '2574096',\n   'ns': '551965448'},\n  {'itemid': '48769',\n   'clock': '1671614835',\n   'value': '1666584',\n   'ns': '422309479'},\n  {'itemid': '48769',\n   'clock': '1671614655',\n   'value': '4431712',\n   'ns': '280518835'},\n  {'itemid': '48769',\n   'clock': '1671614475',\n   'value': '4357888',\n   'ns': '672176398'}],\n 'id': 1}"
     },
     "execution_count": 24,
     "metadata": {},
     "output_type": "execute_result"
    }
   ],
   "source": [
    "data = {\n",
    "    \"jsonrpc\": \"2.0\",\n",
    "    \"method\": \"history.get\",\n",
    "    \"params\": {\n",
    "        \"output\": \"extend\",\n",
    "        \"history\": 3,\n",
    "        \"itemids\": \"48769\",\n",
    "        \"sortfield\": \"clock\",\n",
    "        \"sortorder\": \"DESC\",\n",
    "        \"limit\": NUM_VALUES\n",
    "    },\n",
    "    \"auth\": AUTH_TOKEN,\n",
    "    \"id\": 1\n",
    "}\n",
    "\n",
    "req = requests.post(API_URL, json=data)\n",
    "hosts = ast.literal_eval(req.text)\n",
    "\n",
    "hosts"
   ],
   "metadata": {
    "collapsed": false
   }
  },
  {
   "cell_type": "code",
   "execution_count": 19,
   "outputs": [],
   "source": [],
   "metadata": {
    "collapsed": false
   }
  }
 ],
 "metadata": {
  "kernelspec": {
   "display_name": "Python 3",
   "language": "python",
   "name": "python3"
  },
  "language_info": {
   "codemirror_mode": {
    "name": "ipython",
    "version": 2
   },
   "file_extension": ".py",
   "mimetype": "text/x-python",
   "name": "python",
   "nbconvert_exporter": "python",
   "pygments_lexer": "ipython2",
   "version": "2.7.6"
  }
 },
 "nbformat": 4,
 "nbformat_minor": 0
}
