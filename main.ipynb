{
 "cells": [
  {
   "cell_type": "markdown",
   "source": [
    "#### Setup the login credentials required for accessing the zabbix API"
   ],
   "metadata": {
    "collapsed": false,
    "pycharm": {
     "name": "#%% md\n"
    }
   }
  },
  {
   "cell_type": "code",
   "execution_count": 2,
   "outputs": [
    {
     "name": "stdout",
     "output_type": "stream",
     "text": [
      "{\"jsonrpc\":\"2.0\",\"result\":\"d1600c650a58fda818f299d0954c13c3\",\"id\":1}\n"
     ]
    },
    {
     "data": {
      "text/plain": "'d1600c650a58fda818f299d0954c13c3'"
     },
     "execution_count": 2,
     "metadata": {},
     "output_type": "execute_result"
    }
   ],
   "source": [
    "import requests\n",
    "import ast\n",
    "import json\n",
    "\n",
    "USERNAME = \"usr\"\n",
    "PASSWORD = \"pass\"\n",
    "\n",
    "API_URL = \"https://phonebox.tegola.org.uk/api_jsonrpc.php\"\n",
    "\n",
    "data = {\n",
    "    \"jsonrpc\": \"2.0\",\n",
    "    \"method\": \"user.login\",\n",
    "    \"params\": {\n",
    "        \"user\": USERNAME,\n",
    "        \"password\": PASSWORD\n",
    "    },\n",
    "    \"id\": 1,\n",
    "    \"auth\": None\n",
    "}\n",
    "\n",
    "req = requests.post(API_URL, json=data)\n",
    "\n",
    "print(req.text)\n",
    "\n",
    "AUTH_TOKEN = req.json()[\"result\"]\n",
    "AUTH_TOKEN"
   ],
   "metadata": {
    "collapsed": false,
    "pycharm": {
     "name": "#%%\n"
    }
   }
  },
  {
   "cell_type": "code",
   "execution_count": 5,
   "outputs": [
    {
     "data": {
      "text/plain": "{'jsonrpc': '2.0',\n 'result': [{'hostid': '10533',\n   'proxy_hostid': '0',\n   'host': '198.52.44.5',\n   'status': '0',\n   'lastaccess': '0',\n   'ipmi_authtype': '-1',\n   'ipmi_privilege': '2',\n   'ipmi_username': '',\n   'ipmi_password': '',\n   'maintenanceid': '0',\n   'maintenance_status': '0',\n   'maintenance_type': '0',\n   'maintenance_from': '0',\n   'name': 'SSH-CRS317',\n   'flags': '0',\n   'templateid': '0',\n   'description': '',\n   'tls_connect': '1',\n   'tls_accept': '1',\n   'tls_issuer': '',\n   'tls_subject': '',\n   'proxy_address': '',\n   'auto_compress': '1',\n   'custom_interfaces': '0',\n   'uuid': '',\n   'inventory_mode': '-1'},\n  {'hostid': '10541',\n   'proxy_hostid': '0',\n   'host': 'MHI-RB2011',\n   'status': '0',\n   'lastaccess': '0',\n   'ipmi_authtype': '-1',\n   'ipmi_privilege': '2',\n   'ipmi_username': '',\n   'ipmi_password': '',\n   'maintenanceid': '0',\n   'maintenance_status': '0',\n   'maintenance_type': '0',\n   'maintenance_from': '0',\n   'name': 'MHI-RB2011',\n   'flags': '0',\n   'templateid': '0',\n   'description': '',\n   'tls_connect': '1',\n   'tls_accept': '1',\n   'tls_issuer': '',\n   'tls_subject': '',\n   'proxy_address': '',\n   'auto_compress': '1',\n   'custom_interfaces': '0',\n   'uuid': '',\n   'inventory_mode': '-1'},\n  {'hostid': '10545',\n   'proxy_hostid': '0',\n   'host': 'SMO-FAS-RB1100',\n   'status': '0',\n   'lastaccess': '0',\n   'ipmi_authtype': '-1',\n   'ipmi_privilege': '2',\n   'ipmi_username': '',\n   'ipmi_password': '',\n   'maintenanceid': '0',\n   'maintenance_status': '0',\n   'maintenance_type': '0',\n   'maintenance_from': '0',\n   'name': 'SMO-FAS-RB1100',\n   'flags': '0',\n   'templateid': '0',\n   'description': '',\n   'tls_connect': '1',\n   'tls_accept': '1',\n   'tls_issuer': '',\n   'tls_subject': '',\n   'proxy_address': '',\n   'auto_compress': '1',\n   'custom_interfaces': '0',\n   'uuid': '',\n   'inventory_mode': '-1'}],\n 'id': 1}"
     },
     "execution_count": 5,
     "metadata": {},
     "output_type": "execute_result"
    }
   ],
   "source": [
    "# Get hosts by name\n",
    "\n",
    "data = {\n",
    "    \"jsonrpc\": \"2.0\",\n",
    "    \"method\": \"host.get\",\n",
    "    \"params\": {\n",
    "        \"filter\": {\n",
    "            \"host\": [\n",
    "                \"COR-CRS328\",\n",
    "                \"MHI-RB2011\",\n",
    "                \"SMO-FAS-RB1100\",\n",
    "                \"198.52.44.5\"\n",
    "            ]\n",
    "        }\n",
    "    },\n",
    "    \"auth\": AUTH_TOKEN,\n",
    "    \"id\": 1\n",
    "}\n",
    "\n",
    "req = requests.post(API_URL, json=data)\n",
    "# req.text\n",
    "\n",
    "df = ast.literal_eval(req.text)\n",
    "df\n",
    "\n"
   ],
   "metadata": {
    "collapsed": false,
    "pycharm": {
     "name": "#%%\n"
    }
   }
  },
  {
   "cell_type": "code",
   "execution_count": 3,
   "outputs": [],
   "source": [],
   "metadata": {
    "collapsed": false,
    "pycharm": {
     "name": "#%%\n"
    }
   }
  }
 ],
 "metadata": {
  "kernelspec": {
   "display_name": "Python 3",
   "language": "python",
   "name": "python3"
  },
  "language_info": {
   "codemirror_mode": {
    "name": "ipython",
    "version": 2
   },
   "file_extension": ".py",
   "mimetype": "text/x-python",
   "name": "python",
   "nbconvert_exporter": "python",
   "pygments_lexer": "ipython2",
   "version": "2.7.6"
  }
 },
 "nbformat": 4,
 "nbformat_minor": 0
}