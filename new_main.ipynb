{
 "cells": [
  {
   "cell_type": "code",
   "execution_count": 26,
   "metadata": {
    "collapsed": true
   },
   "outputs": [
    {
     "name": "stdout",
     "output_type": "stream",
     "text": [
      "+------------------------------------------------------------------+\n",
      "|   Demand from Source & Destination Pairs (Kbps) (Last 1 Year)    |\n",
      "+---------+--------------+------------------+----------------------+\n",
      "|  Source | Destination  | Bits Sent (avg)  | Bits Received (avg)  |\n",
      "+---------+--------------+------------------+----------------------+\n",
      "|   COR   |     MHI      |      19.61       |        47.83         |\n",
      "|   COR   |     SMO      |       1.06       |          1           |\n",
      "|   COR   |     SSH      |      308.15      |         2430         |\n",
      "|   MHI   |     COR      |      43.57       |        16.59         |\n",
      "|   MHI   |     WHIX     |      82.92       |        459.75        |\n",
      "+---------+--------------+------------------+----------------------+\n"
     ]
    }
   ],
   "source": [
    "from prettytable import PrettyTable\n",
    "\n",
    "table = PrettyTable()\n",
    "\n",
    "# Add data manually\n",
    "table.title = \"Demand from Source & Destination Pairs (Kbps) (Last 1 Year)\"\n",
    "table.field_names = [\"Source\", \"Destination\", \"Bits Sent (avg)\", \"Bits Sent (min)\", \"Bits Sent (max)\", \"Bits Received (avg)\", \"Bits Received (min)\", \"Bits Received (max)\"]\n",
    "table.add_row([\"COR\", \"MHI\", 19.61, 4, 4130, 47.83, 3.04, 23440])\n",
    "table.add_row([\"COR\", \"SMO\", 1.06, 0, 251.3, 1, 0, 1470])\n",
    "table.add_row([\"COR\", \"SSH\", 308.15, 0, 42180, 2430, 0, 87310])\n",
    "table.add_row([\"MHI\", \"COR\", 43.57, 1.28, 23590, 16.59, 0.4, 4100])\n",
    "table.add_row([\"MHI\", \"WHIX\", 82.92, 0.344, 9400, 459.75, 1.49, 49040])\n",
    "\n",
    "\n",
    "\n",
    "print(table.get_string(fields=[\"Source\", \"Destination\", \"Bits Sent (avg)\", \"Bits Received (avg)\"]))"
   ]
  },
  {
   "cell_type": "code",
   "execution_count": 27,
   "outputs": [
    {
     "name": "stdout",
     "output_type": "stream",
     "text": [
      "+----------------------------------------------------------------------------------------------------------------------------------------------+\n",
      "|                                         Demand from Source & Destination Pairs (Kbps) (Last 1 Year)                                          |\n",
      "+--------+-------------+-----------------+-----------------+-----------------+---------------------+---------------------+---------------------+\n",
      "| Source | Destination | Bits Sent (avg) | Bits Sent (min) | Bits Sent (max) | Bits Received (avg) | Bits Received (min) | Bits Received (max) |\n",
      "+--------+-------------+-----------------+-----------------+-----------------+---------------------+---------------------+---------------------+\n",
      "|  COR   |     MHI     |      19.61      |        4        |       4130      |        47.83        |         3.04        |        23440        |\n",
      "|  COR   |     SMO     |       1.06      |        0        |      251.3      |          1          |          0          |         1470        |\n",
      "|  COR   |     SSH     |      308.15     |        0        |      42180      |         2430        |          0          |        87310        |\n",
      "|  MHI   |     COR     |      43.57      |       1.28      |      23590      |        16.59        |         0.4         |         4100        |\n",
      "|  MHI   |     WHIX    |      82.92      |      0.344      |       9400      |        459.75       |         1.49        |        49040        |\n",
      "+--------+-------------+-----------------+-----------------+-----------------+---------------------+---------------------+---------------------+\n"
     ]
    }
   ],
   "source": [
    "print(table)"
   ],
   "metadata": {
    "collapsed": false,
    "pycharm": {
     "name": "#%%\n"
    }
   }
  }
 ],
 "metadata": {
  "kernelspec": {
   "display_name": "Python 3",
   "language": "python",
   "name": "python3"
  },
  "language_info": {
   "codemirror_mode": {
    "name": "ipython",
    "version": 2
   },
   "file_extension": ".py",
   "mimetype": "text/x-python",
   "name": "python",
   "nbconvert_exporter": "python",
   "pygments_lexer": "ipython2",
   "version": "2.7.6"
  }
 },
 "nbformat": 4,
 "nbformat_minor": 0
}